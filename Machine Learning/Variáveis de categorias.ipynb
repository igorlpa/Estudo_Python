{
 "cells": [
  {
   "cell_type": "markdown",
   "metadata": {},
   "source": [
    "São variáveis que não possuem valores numéricos e sim um valor atribuido (ex, cidade, genero, pais, emprego, cor, etc.)\n",
    "\n",
    "Formas de tratar tais variáveis nos dados utilizados\n"
   ]
  },
  {
   "cell_type": "code",
   "execution_count": 2,
   "metadata": {},
   "outputs": [],
   "source": [
    "import pandas as pd"
   ]
  },
  {
   "cell_type": "markdown",
   "metadata": {},
   "source": [
    "# Crop Variables\n",
    "\n",
    "Descarta as dados que são desse tipo.\n",
    "Perde informação para realizar a tarefa."
   ]
  },
  {
   "cell_type": "markdown",
   "metadata": {},
   "source": [
    "# Label Enconding\n",
    "\n",
    "Atribuir um valor numérico a cada uma das opções.\n",
    " ex.: João Pessoa = 1, CG =2; Mulher = 1, Homem =2;\n",
    " \n",
    "O problema desta abordagem é atribuir valores com pesos diferentes às categorias (maior valor, maior importância)"
   ]
  },
  {
   "cell_type": "code",
   "execution_count": null,
   "metadata": {},
   "outputs": [],
   "source": []
  }
 ],
 "metadata": {
  "kernelspec": {
   "display_name": "Python 3",
   "language": "python",
   "name": "python3"
  },
  "language_info": {
   "codemirror_mode": {
    "name": "ipython",
    "version": 3
   },
   "file_extension": ".py",
   "mimetype": "text/x-python",
   "name": "python",
   "nbconvert_exporter": "python",
   "pygments_lexer": "ipython3",
   "version": "3.7.0"
  }
 },
 "nbformat": 4,
 "nbformat_minor": 2
}
