{
 "cells": [
  {
   "cell_type": "code",
   "execution_count": 1,
   "metadata": {},
   "outputs": [],
   "source": [
    "import pandas as pd\n"
   ]
  },
  {
   "cell_type": "code",
   "execution_count": 11,
   "metadata": {},
   "outputs": [
    {
     "name": "stdout",
     "output_type": "stream",
     "text": [
      "   Unnamed: 0  points  price\n",
      "0           0      96    NaN\n",
      "1           1      96  110.0\n",
      "2           2      96   90.0\n",
      "3           3      96    NaN\n",
      "4           4      95    NaN\n",
      "(150930, 3)\n"
     ]
    }
   ],
   "source": [
    "X = pd.read_csv(\"winemag-data_first150k.csv\")\n",
    "\n",
    "\n",
    "# To keep things simple, we'll use only numerical predictors\n",
    "x = X.select_dtypes(exclude=['object'])\n",
    "\n",
    "print(x.head())\n",
    "print(x.shape)"
   ]
  },
  {
   "cell_type": "markdown",
   "metadata": {},
   "source": [
    "# Como pegar as colunas com valores faltando"
   ]
  },
  {
   "cell_type": "code",
   "execution_count": 12,
   "metadata": {},
   "outputs": [
    {
     "name": "stdout",
     "output_type": "stream",
     "text": [
      "Index(['price'], dtype='object')\n"
     ]
    }
   ],
   "source": [
    "#cols_with_missing = [col for col in X_train.columns if X_train[col].isnull().any()] \n",
    "cols_with_missing = x.columns[x.isnull().any()]\n",
    "\n",
    "print(cols_with_missing)"
   ]
  },
  {
   "cell_type": "markdown",
   "metadata": {},
   "source": [
    "# Eliminar amostras com valores NaN\n",
    "\n",
    "Remove as linhas que possuem algum valor NaN. \n",
    "\n",
    "Também há a opção de retirar toda a coluna (feature) do calculo, o que pode ocasionar em perda de informação importante para a solução do problema."
   ]
  },
  {
   "cell_type": "code",
   "execution_count": 14,
   "metadata": {},
   "outputs": [
    {
     "name": "stdout",
     "output_type": "stream",
     "text": [
      "   Unnamed: 0  points  price\n",
      "1           1      96  110.0\n",
      "2           2      96   90.0\n",
      "5           5      95   73.0\n",
      "6           6      95   65.0\n",
      "7           7      95  110.0\n",
      "(137232, 3)\n"
     ]
    }
   ],
   "source": [
    "x_drop = x.dropna()\n",
    "\n",
    "print(x_drop.head())\n",
    "print(x_drop.shape)"
   ]
  },
  {
   "cell_type": "markdown",
   "metadata": {},
   "source": [
    "# Imputation\n",
    "\n",
    "Substitui o valor faltando por algum valor pré-definido. Esse valor normalmente é 0, média ou mediano."
   ]
  },
  {
   "cell_type": "code",
   "execution_count": 15,
   "metadata": {},
   "outputs": [],
   "source": [
    "from sklearn.preprocessing import Imputer #simpleImputer no sklearn mais recente"
   ]
  },
  {
   "cell_type": "code",
   "execution_count": 17,
   "metadata": {},
   "outputs": [
    {
     "name": "stdout",
     "output_type": "stream",
     "text": [
      "   Unnamed: 0  points      price\n",
      "0         0.0    96.0   33.12954\n",
      "1         1.0    96.0  110.00000\n",
      "2         2.0    96.0   90.00000\n",
      "3         3.0    96.0   33.12954\n",
      "4         4.0    95.0   33.12954\n",
      "(150930, 3)\n"
     ]
    }
   ],
   "source": [
    "imputer = Imputer()\n",
    "imputed_x = pd.DataFrame(imputer.fit_transform(x) )\n",
    "\n",
    "#renomeia as colunas. a imputação remove os nomes\n",
    "imputed_x.columns = x.columns\n",
    "\n",
    "print(imputed_x.head())\n",
    "print(imputed_x.shape)"
   ]
  },
  {
   "cell_type": "markdown",
   "metadata": {},
   "source": [
    "# Imputation extendido\n",
    "\n",
    "Adiciona-se uma coluna para informar se determinado valor foi imputado ou não  "
   ]
  },
  {
   "cell_type": "code",
   "execution_count": 19,
   "metadata": {},
   "outputs": [
    {
     "name": "stdout",
     "output_type": "stream",
     "text": [
      "   Unnamed: 0  points  price\n",
      "0           0      96    NaN\n",
      "1           1      96  110.0\n",
      "2           2      96   90.0\n",
      "3           3      96    NaN\n",
      "4           4      95    NaN\n",
      "   Unnamed: 0  points  price  price_was_missing\n",
      "0           0      96    NaN               True\n",
      "1           1      96  110.0              False\n",
      "2           2      96   90.0              False\n",
      "3           3      96    NaN               True\n",
      "4           4      95    NaN               True\n"
     ]
    }
   ],
   "source": [
    "x_plus = x.copy()\n",
    "# Make new columns indicating what will be imputed\n",
    "for col in cols_with_missing:\n",
    "    x_plus[col + '_was_missing'] = x_plus[col].isnull()\n",
    "    \n",
    "print(x.head())\n",
    "print(x_plus.head())"
   ]
  },
  {
   "cell_type": "code",
   "execution_count": 21,
   "metadata": {},
   "outputs": [
    {
     "name": "stdout",
     "output_type": "stream",
     "text": [
      "   Unnamed: 0  points      price  price_was_missing\n",
      "0         0.0    96.0   33.12954                1.0\n",
      "1         1.0    96.0  110.00000                0.0\n",
      "2         2.0    96.0   90.00000                0.0\n",
      "3         3.0    96.0   33.12954                1.0\n",
      "4         4.0    95.0   33.12954                1.0\n"
     ]
    }
   ],
   "source": [
    "imputer = Imputer()\n",
    "imputed_x_plus = pd.DataFrame(imputer.fit_transform(x_plus) )\n",
    "#renomeia as colunas. a imputação remove os nomes\n",
    "imputed_x_plus.columns = x_plus.columns\n",
    "\n",
    "print(imputed_x_plus.head())"
   ]
  },
  {
   "cell_type": "code",
   "execution_count": null,
   "metadata": {},
   "outputs": [],
   "source": []
  }
 ],
 "metadata": {
  "kernelspec": {
   "display_name": "Python 3",
   "language": "python",
   "name": "python3"
  },
  "language_info": {
   "codemirror_mode": {
    "name": "ipython",
    "version": 3
   },
   "file_extension": ".py",
   "mimetype": "text/x-python",
   "name": "python",
   "nbconvert_exporter": "python",
   "pygments_lexer": "ipython3",
   "version": "3.7.0"
  }
 },
 "nbformat": 4,
 "nbformat_minor": 2
}
